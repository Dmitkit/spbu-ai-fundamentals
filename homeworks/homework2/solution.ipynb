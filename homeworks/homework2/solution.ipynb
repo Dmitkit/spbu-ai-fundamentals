{
 "cells": [
  {
   "cell_type": "code",
   "execution_count": 3,
   "id": "0f5796fa",
   "metadata": {},
   "outputs": [],
   "source": [
    "import pandas as pd\n",
    "import numpy as np\n",
    "import seaborn as sns\n",
    "import matplotlib.pyplot as plt\n",
    "\n",
    "from sklearn.ensemble import RandomForestClassifier\n",
    "from sklearn.preprocessing import LabelEncoder\n",
    "from sklearn.impute import SimpleImputer"
   ]
  },
  {
   "cell_type": "code",
   "execution_count": 5,
   "id": "96d50677",
   "metadata": {},
   "outputs": [],
   "source": [
    "train = pd.read_csv(\"data/train.csv\")\n",
    "test = pd.read_csv(\"data/test.csv\")\n",
    "\n",
    "test_ids = test[\"id\"]\n",
    "\n",
    "y = train[\"Depression\"]\n",
    "\n",
    "train = train.drop(columns=[\"id\", \"Name\", \"Depression\"])\n",
    "test = test.drop(columns=[\"id\", \"Name\"])"
   ]
  },
  {
   "cell_type": "code",
   "execution_count": null,
   "id": "6689d0ad",
   "metadata": {},
   "outputs": [
    {
     "name": "stdout",
     "output_type": "stream",
     "text": [
      "Количество NaN в каждом признаке:\n",
      "Gender                                      0\n",
      "Age                                         0\n",
      "City                                        0\n",
      "Working Professional or Student             0\n",
      "Profession                                511\n",
      "Academic Pressure                        1509\n",
      "Work Pressure                             382\n",
      "CGPA                                     1509\n",
      "Study Satisfaction                       1509\n",
      "Job Satisfaction                          382\n",
      "Sleep Duration                              0\n",
      "Dietary Habits                              0\n",
      "Degree                                      0\n",
      "Have you ever had suicidal thoughts ?       0\n",
      "Work/Study Hours                            0\n",
      "Financial Stress                            0\n",
      "Family History of Mental Illness            0\n",
      "dtype: int64\n",
      "\n",
      "Признаки с пустыми ячейками:\n",
      "['Profession', 'Academic Pressure', 'Work Pressure', 'CGPA', 'Study Satisfaction', 'Job Satisfaction']\n"
     ]
    }
   ],
   "source": [
    "print(\"Количество NaN в каждом признаке:\")\n",
    "print(train.isnull().sum())\n",
    "\n",
    "features_with_nan = train.columns[train.isnull().any()].tolist()\n",
    "print(\"\\nПризнаки с пустыми ячейками:\")\n",
    "print(features_with_nan)"
   ]
  },
  {
   "cell_type": "code",
   "execution_count": 45,
   "id": "de2eb75b",
   "metadata": {},
   "outputs": [
    {
     "name": "stdout",
     "output_type": "stream",
     "text": [
      "Количество NaN в столбце 'Profession' для записей 'Working Professional': Gender                                   1509\n",
      "Age                                      1509\n",
      "City                                     1509\n",
      "Working Professional or Student          1509\n",
      "Profession                               1380\n",
      "Academic Pressure                           0\n",
      "Work Pressure                            1509\n",
      "CGPA                                        0\n",
      "Study Satisfaction                          0\n",
      "Job Satisfaction                         1509\n",
      "Sleep Duration                           1509\n",
      "Dietary Habits                           1509\n",
      "Degree                                   1509\n",
      "Have you ever had suicidal thoughts ?    1509\n",
      "Work/Study Hours                         1509\n",
      "Financial Stress                         1509\n",
      "Family History of Mental Illness         1509\n",
      "dtype: int64\n"
     ]
    }
   ],
   "source": [
    "mask = ((train[\"Working Professional or Student\"] == \"Working Professional\") &\n",
    "        # (train['Work Pressure'].notnull()) &\n",
    "        # (train['Work/Study Hours'].notnull()) &\n",
    "        (train['Academic Pressure'].isna()))\n",
    "\n",
    "nan_count = train.loc[mask].count()\n",
    "\n",
    "print(\"Количество NaN в столбце 'Profession' для записей 'Working Professional':\", nan_count)"
   ]
  },
  {
   "cell_type": "code",
   "execution_count": 6,
   "id": "a8fcf020",
   "metadata": {},
   "outputs": [
    {
     "data": {
      "image/png": "[encoded data removed]",
      "text/plain": [
       "<Figure size 640x480 with 1 Axes>"
      ]
     },
     "metadata": {},
     "output_type": "display_data"
    }
   ],
   "source": [
    "# Распределение целевой переменной\n",
    "sns.countplot(x=y)\n",
    "plt.title(\"Распределение классов 'Depression'\")\n",
    "plt.xlabel(\"Depression\")\n",
    "plt.ylabel(\"Количество\")\n",
    "plt.show()"
   ]
  },
  {
   "cell_type": "code",
   "execution_count": null,
   "id": "f2789dc4",
   "metadata": {},
   "outputs": [],
   "source": [
    "combined = pd.concat([train, test], axis=0)\n",
    "\n",
    "for col in combined.select_dtypes(include='object').columns:\n",
    "    combined[col] = combined[col].astype(str)\n",
    "\n",
    "label_encoders = {}\n",
    "for col in combined.select_dtypes(include='object').columns:\n",
    "    le = LabelEncoder()\n",
    "    combined[col] = le.fit_transform(combined[col])\n",
    "    label_encoders[col] = le\n",
    "\n",
    "imputer = SimpleImputer(strategy=\"median\")\n",
    "combined_imputed = imputer.fit_transform(combined)\n",
    "\n",
    "X_train = combined_imputed[:len(y)]\n",
    "X_test = combined_imputed[len(y):]"
   ]
  },
  {
   "cell_type": "code",
   "execution_count": 47,
   "id": "a4943501",
   "metadata": {},
   "outputs": [],
   "source": [
    "model = RandomForestClassifier(n_estimators=100, random_state=42)\n",
    "model.fit(X_train, y)\n",
    "\n",
    "test_preds = model.predict(X_test)\n",
    "\n",
    "output = pd.DataFrame({\n",
    "    'id': test_ids,    \n",
    "    'Depression': test_preds\n",
    "})\n",
    "\n",
    "output.to_csv('predictions_random_trees.csv', index=False)"
   ]
  },
  {
   "cell_type": "code",
   "execution_count": null,
   "id": "27d67682",
   "metadata": {},
   "outputs": [],
   "source": [
    "combined = pd.concat([train, test], axis=0)\n",
    "\n",
    "mask_work = combined[\"Working Professional or Student\"] == \"Working Professional\"\n",
    "combined.loc[mask_work, \"Academic Pressure\"] = combined.loc[mask_work, \"Academic Pressure\"].fillna(0)\n",
    "\n",
    "for col in combined.select_dtypes(include='object').columns:\n",
    "    combined[col] = combined[col].astype(str)\n",
    "\n",
    "label_encoders = {}\n",
    "for col in combined.select_dtypes(include='object').columns:\n",
    "    le = LabelEncoder()\n",
    "    combined[col] = le.fit_transform(combined[col])\n",
    "    label_encoders[col] = le\n",
    "\n",
    "imputer = SimpleImputer(strategy=\"median\")\n",
    "combined_imputed = imputer.fit_transform(combined)\n",
    "\n",
    "X_train = combined_imputed[:len(y)]\n",
    "X_test = combined_imputed[len(y):]#стало только хуже.\n"
   ]
  }
 ],
 "metadata": {
  "kernelspec": {
   "display_name": "Python 3",
   "language": "python",
   "name": "python3"
  },
  "language_info": {
   "codemirror_mode": {
    "name": "ipython",
    "version": 3
   },
   "file_extension": ".py",
   "mimetype": "text/x-python",
   "name": "python",
   "nbconvert_exporter": "python",
   "pygments_lexer": "ipython3",
   "version": "3.12.6"
  }
 },
 "nbformat": 4,
 "nbformat_minor": 5
}
